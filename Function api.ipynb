{
 "cells": [
  {
   "cell_type": "code",
   "execution_count": 1,
   "metadata": {},
   "outputs": [],
   "source": [
    "import pandas as pd\n",
    "import numpy as np"
   ]
  },
  {
   "cell_type": "code",
   "execution_count": null,
   "metadata": {},
   "outputs": [],
   "source": []
  },
  {
   "cell_type": "code",
   "execution_count": 2,
   "metadata": {},
   "outputs": [],
   "source": [
    "def read_file(csv):\n",
    "    df = pd.read_csv(csv)\n",
    "    return df\n",
    "\n",
    "def date_unify(df):\n",
    "    dates = df.date.unique().tolist()\n",
    "    countries = df.country.unique().tolist()\n",
    "    dates.sort()\n",
    "    df_empty = pd.DataFrame()\n",
    "    for each_c in countries: \n",
    "        df_new = pd.DataFrame({'date': dates, 'country': each_c})\n",
    "        df_empty = pd.concat([df_empty, df_new])\n",
    "    df = pd.concat([df, df_empty])\n",
    "    df = df.sort_values(by=['country','date'], ascending=True)\n",
    "    df = df.drop_duplicates(subset=['country', 'date'], keep=\"first\")\n",
    "    return df\n",
    "\n",
    "def fill_na(df):\n",
    "    df.drop(['iso_code'], axis = 1, inplace = True)\n",
    "    df['total_vaccinations'] = df.groupby(['country'], sort=False)['total_vaccinations'].apply(lambda x: x.ffill().bfill())\n",
    "    df['people_vaccinated'] = df.groupby(['country'], sort=False)['people_vaccinated'].apply(lambda x: x.ffill().bfill())\n",
    "    df['people_fully_vaccinated'] = df.groupby(['country'], sort=False)['people_fully_vaccinated'].apply(lambda x: x.ffill().bfill())\n",
    "    df['vaccines'] = df.groupby(['country'], sort=False)['vaccines'].apply(lambda x: x.ffill().bfill())\n",
    "    df['people_vaccinated_per_hundred'] = df.groupby(['country'], sort=False)['people_vaccinated_per_hundred'].apply(lambda x: x.ffill().bfill())\n",
    "    df['total_vaccinations_per_hundred'] = df.groupby(['country'], sort=False)['total_vaccinations_per_hundred'].apply(lambda x: x.ffill().bfill())\n",
    "    df['people_fully_vaccinated_per_hundred'] = df.groupby(['country'], sort=False)['people_fully_vaccinated_per_hundred'].apply(lambda x: x.ffill().bfill())\n",
    "    df['daily_vaccinations_per_million'] = df.groupby(['country'], sort=False)['daily_vaccinations_per_million'].apply(lambda x: x.ffill().bfill())\n",
    "    df = df.fillna(0)\n",
    "    df.drop(['daily_vaccinations_raw', 'source_name', 'source_website'], axis=1, inplace = True)\n",
    "    return df\n",
    "\n",
    "def save_file(df):\n",
    "    df.to_csv('vaccine_cleaned.csv', index=False)"
   ]
  },
  {
   "cell_type": "code",
   "execution_count": 3,
   "metadata": {},
   "outputs": [],
   "source": [
    "def read_format(csv):\n",
    "    ex_df = pd.read_csv(\"vaccine_cleaned.csv\")\n",
    "    country_list = exist_df.country.unique().tolist()\n",
    "    \n",
    "    df = pd.read_csv(csv)\n",
    "    df = df.replace({\"UK\": \"United Kingdom\", \"USA\": \"United States\", \"Czech Republic\": \"Czechia\"})\n",
    "    df = df[df[\"country\"].isin(country_list)]\n",
    "    return df\n",
    "\n",
    "def clean_process(df):\n",
    "    df.cumulative_total_deaths = df.cumulative_total_deaths.fillna(0)\n",
    "    dates = df.date.unique().tolist()\n",
    "    countries = df.country.unique().tolist()\n",
    "    dates.sort()\n",
    "    df_empty = pd.DataFrame()\n",
    "    for each_c in countries: \n",
    "        df_new = pd.DataFrame({'date': dates, 'country': each_c})\n",
    "        df_empty = pd.concat([df_empty, df_new])\n",
    "    df = pd.concat([df, df_empty])\n",
    "    df = df.sort_values(by=['country','date'], ascending=True)\n",
    "    df = df.drop_duplicates(subset=['country', 'date'], keep=\"first\")\n",
    "    df = df.fillna(0)\n",
    "    return df \n",
    "\n",
    "def save(df):\n",
    "    df.to_csv('covid_vac_cleaned.csv', index=False)"
   ]
  },
  {
   "cell_type": "code",
   "execution_count": 4,
   "metadata": {},
   "outputs": [],
   "source": [
    "def read_process(csv):\n",
    "    df = pd.read_csv(csv)\n",
    "    ex_df = pd.read_csv(\"vaccine_cleaned.csv\")\n",
    "    country_list = ex_df.country.unique().tolist()\n",
    "    df = df.replace({\"Czech Republic (Czechia)\": \"Czechia\"})\n",
    "    df = df[df[\"Country (or dependency)\"].isin(country_list)]\n",
    "    df.to_csv('pop_cleaned.csv', index=False)"
   ]
  },
  {
   "cell_type": "code",
   "execution_count": null,
   "metadata": {},
   "outputs": [],
   "source": [
    "if __name__ == '__main__':\n",
    "    "
   ]
  }
 ],
 "metadata": {
  "kernelspec": {
   "display_name": "Python 3",
   "language": "python",
   "name": "python3"
  },
  "language_info": {
   "codemirror_mode": {
    "name": "ipython",
    "version": 3
   },
   "file_extension": ".py",
   "mimetype": "text/x-python",
   "name": "python",
   "nbconvert_exporter": "python",
   "pygments_lexer": "ipython3",
   "version": "3.7.9"
  }
 },
 "nbformat": 4,
 "nbformat_minor": 4
}
